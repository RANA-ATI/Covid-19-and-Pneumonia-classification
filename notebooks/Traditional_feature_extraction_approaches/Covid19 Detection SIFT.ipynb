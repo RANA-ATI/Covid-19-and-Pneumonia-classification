{
 "cells": [
  {
   "cell_type": "code",
   "execution_count": 26,
   "id": "eda6b92d",
   "metadata": {},
   "outputs": [],
   "source": [
    "import os\n",
    "import numpy as np\n",
    "import pandas as pd\n",
    "import time\n",
    "\n",
    "#importing required libraries for spliting the data\n",
    "from sklearn.model_selection import train_test_split\n",
    "\n",
    "#importing required libraries for Models\n",
    "from sklearn.tree import DecisionTreeClassifier\n",
    "from sklearn.neighbors import KNeighborsClassifier\n",
    "from sklearn.svm import SVC\n",
    "\n",
    "#importing required libraries for visualization\n",
    "from sklearn.metrics import confusion_matrix, ConfusionMatrixDisplay, classification_report, recall_score, accuracy_score, precision_score, f1_score\n",
    "from sklearn.metrics import plot_confusion_matrix\n",
    "import matplotlib.pyplot as plt\n",
    "import plotly.express as px\n",
    "\n",
    "#importing required libraries for image feature extraction\n",
    "import cv2\n",
    "from skimage.io import imread, imshow\n",
    "from skimage.transform import resize\n",
    "from skimage import exposure"
   ]
  },
  {
   "cell_type": "code",
   "execution_count": 27,
   "id": "203c0ff4",
   "metadata": {},
   "outputs": [
    {
     "data": {
      "text/html": [
       "<div>\n",
       "<style scoped>\n",
       "    .dataframe tbody tr th:only-of-type {\n",
       "        vertical-align: middle;\n",
       "    }\n",
       "\n",
       "    .dataframe tbody tr th {\n",
       "        vertical-align: top;\n",
       "    }\n",
       "\n",
       "    .dataframe thead th {\n",
       "        text-align: right;\n",
       "    }\n",
       "</style>\n",
       "<table border=\"1\" class=\"dataframe\">\n",
       "  <thead>\n",
       "    <tr style=\"text-align: right;\">\n",
       "      <th></th>\n",
       "      <th>image_file</th>\n",
       "      <th>corona_result</th>\n",
       "      <th>path</th>\n",
       "    </tr>\n",
       "  </thead>\n",
       "  <tbody>\n",
       "    <tr>\n",
       "      <th>0</th>\n",
       "      <td>Normal/Normal-1.png</td>\n",
       "      <td>Negative</td>\n",
       "      <td>C:/Users/TOSHEBA PC/Desktop/project/Normal/Nor...</td>\n",
       "    </tr>\n",
       "    <tr>\n",
       "      <th>1</th>\n",
       "      <td>Normal/Normal-10.png</td>\n",
       "      <td>Negative</td>\n",
       "      <td>C:/Users/TOSHEBA PC/Desktop/project/Normal/Nor...</td>\n",
       "    </tr>\n",
       "    <tr>\n",
       "      <th>2</th>\n",
       "      <td>Normal/Normal-100.png</td>\n",
       "      <td>Negative</td>\n",
       "      <td>C:/Users/TOSHEBA PC/Desktop/project/Normal/Nor...</td>\n",
       "    </tr>\n",
       "    <tr>\n",
       "      <th>3</th>\n",
       "      <td>Normal/Normal-1000.png</td>\n",
       "      <td>Negative</td>\n",
       "      <td>C:/Users/TOSHEBA PC/Desktop/project/Normal/Nor...</td>\n",
       "    </tr>\n",
       "    <tr>\n",
       "      <th>4</th>\n",
       "      <td>Normal/Normal-101.png</td>\n",
       "      <td>Negative</td>\n",
       "      <td>C:/Users/TOSHEBA PC/Desktop/project/Normal/Nor...</td>\n",
       "    </tr>\n",
       "  </tbody>\n",
       "</table>\n",
       "</div>"
      ],
      "text/plain": [
       "               image_file corona_result  \\\n",
       "0     Normal/Normal-1.png      Negative   \n",
       "1    Normal/Normal-10.png      Negative   \n",
       "2   Normal/Normal-100.png      Negative   \n",
       "3  Normal/Normal-1000.png      Negative   \n",
       "4   Normal/Normal-101.png      Negative   \n",
       "\n",
       "                                                path  \n",
       "0  C:/Users/TOSHEBA PC/Desktop/project/Normal/Nor...  \n",
       "1  C:/Users/TOSHEBA PC/Desktop/project/Normal/Nor...  \n",
       "2  C:/Users/TOSHEBA PC/Desktop/project/Normal/Nor...  \n",
       "3  C:/Users/TOSHEBA PC/Desktop/project/Normal/Nor...  \n",
       "4  C:/Users/TOSHEBA PC/Desktop/project/Normal/Nor...  "
      ]
     },
     "execution_count": 27,
     "metadata": {},
     "output_type": "execute_result"
    }
   ],
   "source": [
    "levels = ['Normal', 'Covid']\n",
    "path = 'C:/Users/TOSHEBA PC/Desktop/project'\n",
    "\n",
    "data_dir = os.path.join(path)\n",
    "\n",
    "data = []\n",
    "for id, level in enumerate(levels):\n",
    "    for file in os.listdir(os.path.join(data_dir, level)):\n",
    "        data.append(['{}/{}'.format(level, file), level])\n",
    "\n",
    "data = pd.DataFrame(data, columns = ['image_file', 'corona_result'])\n",
    "\n",
    "data['path'] = path + '/' + data['image_file']\n",
    "data['corona_result'] = data['corona_result'].map({'Normal': 'Negative', 'Covid': 'Positive'})\n",
    "\n",
    "data.head()"
   ]
  },
  {
   "cell_type": "code",
   "execution_count": 19,
   "id": "528514fa",
   "metadata": {},
   "outputs": [],
   "source": [
    "all_data = []\n",
    "\n",
    "# Storing images and their labels into a list for further Train Test split\n",
    "\n",
    "for i in range(len(data)):\n",
    "    image = cv2.imread(data['path'][i])\n",
    "    label = 1 if data['corona_result'][i] == \"Positive\" else 0\n",
    "    all_data.append([image, label])"
   ]
  },
  {
   "cell_type": "code",
   "execution_count": 20,
   "id": "816466ce",
   "metadata": {},
   "outputs": [],
   "source": [
    "x = []\n",
    "y = []\n",
    "\n",
    "for image, label in all_data:\n",
    "    x.append(image)\n",
    "    y.append(label)"
   ]
  },
  {
   "cell_type": "code",
   "execution_count": 22,
   "id": "4d22c0ea",
   "metadata": {},
   "outputs": [
    {
     "ename": "KeyboardInterrupt",
     "evalue": "",
     "output_type": "error",
     "traceback": [
      "\u001b[1;31m---------------------------------------------------------------------------\u001b[0m",
      "\u001b[1;31mKeyboardInterrupt\u001b[0m                         Traceback (most recent call last)",
      "\u001b[1;32mC:\\Users\\TOSHEB~1\\AppData\\Local\\Temp/ipykernel_14224/2847367675.py\u001b[0m in \u001b[0;36m<module>\u001b[1;34m\u001b[0m\n\u001b[0;32m     60\u001b[0m \u001b[1;33m\u001b[0m\u001b[0m\n\u001b[0;32m     61\u001b[0m \u001b[1;32mfor\u001b[0m \u001b[0mi\u001b[0m \u001b[1;32min\u001b[0m \u001b[0mrange\u001b[0m\u001b[1;33m(\u001b[0m\u001b[1;36m10\u001b[0m\u001b[1;33m,\u001b[0m\u001b[1;36m26\u001b[0m\u001b[1;33m,\u001b[0m\u001b[1;36m10\u001b[0m\u001b[1;33m)\u001b[0m\u001b[1;33m:\u001b[0m\u001b[1;33m\u001b[0m\u001b[1;33m\u001b[0m\u001b[0m\n\u001b[1;32m---> 62\u001b[1;33m     \u001b[0mdata\u001b[0m \u001b[1;33m=\u001b[0m \u001b[0mmain\u001b[0m\u001b[1;33m(\u001b[0m\u001b[0mi\u001b[0m\u001b[1;33m)\u001b[0m\u001b[1;33m\u001b[0m\u001b[1;33m\u001b[0m\u001b[0m\n\u001b[0m",
      "\u001b[1;32mC:\\Users\\TOSHEB~1\\AppData\\Local\\Temp/ipykernel_14224/2847367675.py\u001b[0m in \u001b[0;36mmain\u001b[1;34m(thresh)\u001b[0m\n\u001b[0;32m     15\u001b[0m     \u001b[0mfeatures\u001b[0m \u001b[1;33m=\u001b[0m \u001b[1;33m[\u001b[0m\u001b[1;33m]\u001b[0m\u001b[1;33m\u001b[0m\u001b[1;33m\u001b[0m\u001b[0m\n\u001b[0;32m     16\u001b[0m     \u001b[1;32mfor\u001b[0m \u001b[0mimg\u001b[0m \u001b[1;32min\u001b[0m \u001b[0mx\u001b[0m\u001b[1;33m:\u001b[0m\u001b[1;33m\u001b[0m\u001b[1;33m\u001b[0m\u001b[0m\n\u001b[1;32m---> 17\u001b[1;33m         \u001b[0mimg_des\u001b[0m \u001b[1;33m=\u001b[0m \u001b[0mCalcFeatures\u001b[0m\u001b[1;33m(\u001b[0m\u001b[0mimg\u001b[0m\u001b[1;33m,\u001b[0m \u001b[0mthresh\u001b[0m\u001b[1;33m)\u001b[0m\u001b[1;33m\u001b[0m\u001b[1;33m\u001b[0m\u001b[0m\n\u001b[0m\u001b[0;32m     18\u001b[0m         \u001b[1;32mif\u001b[0m \u001b[0mimg_des\u001b[0m \u001b[1;32mis\u001b[0m \u001b[1;32mnot\u001b[0m \u001b[1;32mNone\u001b[0m\u001b[1;33m:\u001b[0m\u001b[1;33m\u001b[0m\u001b[1;33m\u001b[0m\u001b[0m\n\u001b[0;32m     19\u001b[0m             \u001b[0mfeatures\u001b[0m\u001b[1;33m.\u001b[0m\u001b[0mappend\u001b[0m\u001b[1;33m(\u001b[0m\u001b[0mimg_des\u001b[0m\u001b[1;33m)\u001b[0m\u001b[1;33m\u001b[0m\u001b[1;33m\u001b[0m\u001b[0m\n",
      "\u001b[1;32mC:\\Users\\TOSHEB~1\\AppData\\Local\\Temp/ipykernel_14224/2847367675.py\u001b[0m in \u001b[0;36mCalcFeatures\u001b[1;34m(img, th)\u001b[0m\n\u001b[0;32m      3\u001b[0m     \u001b[1;32mdef\u001b[0m \u001b[0mCalcFeatures\u001b[0m\u001b[1;33m(\u001b[0m\u001b[0mimg\u001b[0m\u001b[1;33m,\u001b[0m \u001b[0mth\u001b[0m\u001b[1;33m)\u001b[0m\u001b[1;33m:\u001b[0m\u001b[1;33m\u001b[0m\u001b[1;33m\u001b[0m\u001b[0m\n\u001b[0;32m      4\u001b[0m         \u001b[0msift\u001b[0m \u001b[1;33m=\u001b[0m \u001b[0mcv2\u001b[0m\u001b[1;33m.\u001b[0m\u001b[0mxfeatures2d\u001b[0m\u001b[1;33m.\u001b[0m\u001b[0mSIFT_create\u001b[0m\u001b[1;33m(\u001b[0m\u001b[0mth\u001b[0m\u001b[1;33m)\u001b[0m\u001b[1;33m\u001b[0m\u001b[1;33m\u001b[0m\u001b[0m\n\u001b[1;32m----> 5\u001b[1;33m         \u001b[0mkp\u001b[0m\u001b[1;33m,\u001b[0m \u001b[0mdes\u001b[0m \u001b[1;33m=\u001b[0m \u001b[0msift\u001b[0m\u001b[1;33m.\u001b[0m\u001b[0mdetectAndCompute\u001b[0m\u001b[1;33m(\u001b[0m\u001b[0mimg\u001b[0m\u001b[1;33m,\u001b[0m \u001b[1;32mNone\u001b[0m\u001b[1;33m)\u001b[0m\u001b[1;33m\u001b[0m\u001b[1;33m\u001b[0m\u001b[0m\n\u001b[0m\u001b[0;32m      6\u001b[0m         \u001b[1;32mreturn\u001b[0m \u001b[0mdes\u001b[0m\u001b[1;33m\u001b[0m\u001b[1;33m\u001b[0m\u001b[0m\n\u001b[0;32m      7\u001b[0m \u001b[1;33m\u001b[0m\u001b[0m\n",
      "\u001b[1;31mKeyboardInterrupt\u001b[0m: "
     ]
    }
   ],
   "source": [
    "def main(thresh):\n",
    "    \n",
    "    def CalcFeatures(img, th):\n",
    "        sift = cv2.xfeatures2d.SIFT_create(th)\n",
    "        kp, des = sift.detectAndCompute(img, None)\n",
    "        return des\n",
    "      \n",
    "\n",
    "#     All the files appended to the image_path list are passed through the\n",
    "#     CalcFeatures functions which returns the descriptors which are \n",
    "#     appended to the features list and then stacked vertically in the form\n",
    "#     of a numpy array.\n",
    "\n",
    "    \n",
    "    features = []\n",
    "    for img in x:\n",
    "        img_des = CalcFeatures(img, thresh)\n",
    "        if img_des is not None:\n",
    "            features.append(img_des)\n",
    "    features = np.vstack(features)\n",
    "    \n",
    "\n",
    "\n",
    "#   K-Means clustering is then performed on the feature array obtained \n",
    "#   from the previous step. The centres obtained after clustering are \n",
    "#   further used for bagging of features.\n",
    "\n",
    "    k = 150\n",
    "    criteria = (cv2.TERM_CRITERIA_EPS + cv2.TERM_CRITERIA_MAX_ITER, 10, 0.1)\n",
    "    flags = cv2.KMEANS_RANDOM_CENTERS\n",
    "    compactness, labels, centres = cv2.kmeans(features, k, None, criteria, 10, flags)\n",
    "\n",
    "    \n",
    "#   The bag_of_features function assigns the features which are similar\n",
    "#   to a specific cluster centre thus forming a Bag of Words approach.  \n",
    "\n",
    "    \n",
    "    def bag_of_features(features, centres, k = 500):\n",
    "        vec = np.zeros((1, k))\n",
    "        for i in range(features.shape[0]):\n",
    "            feat = features[i]\n",
    "            diff = np.tile(feat, (k, 1)) - centres #distance calculation\n",
    "            dist = pow(((pow(diff, 2)).sum(axis = 1)), 0.5)\n",
    "            idx_dist = dist.argsort()\n",
    "            idx = idx_dist[0]\n",
    "            vec[0][idx] += 1\n",
    "        return vec\n",
    "    \n",
    "    \n",
    "    vec = []\n",
    "    for img in x:\n",
    "        img_des = CalcFeatures(img, thresh)\n",
    "        if img_des is not None:\n",
    "            img_vec = bag_of_features(img_des, centres, k)\n",
    "            vec.append(img_vec)\n",
    "    vec = np.vstack(vec)\n",
    "    \n",
    "    \n",
    "    return vec\n",
    "\n",
    "for i in range(10,26,10):\n",
    "    data = main(i)"
   ]
  },
  {
   "cell_type": "code",
   "execution_count": 7,
   "id": "068ae090",
   "metadata": {},
   "outputs": [
    {
     "name": "stdout",
     "output_type": "stream",
     "text": [
      "Accuracy: 91.25\n"
     ]
    }
   ],
   "source": [
    "#   Splitting the data formed into test and split data and training the \n",
    "#   SVM Classifier.\n",
    "\n",
    "X_train, X_test, y_train, y_test = train_test_split(data, y, test_size=0.2)\n",
    "\n",
    "clf = SVC()\n",
    "clf.fit(X_train, y_train)\n",
    "preds = clf.predict(X_test)\n",
    "acc = accuracy_score(y_test, preds)\n",
    "print('Accuracy: {}'.format(acc*100))\n",
    "\n",
    "result = []\n",
    "class1 = (y_test != preds).sum()\n",
    "class1 = ((len(y_test) - class1)/len(y_test)) * 100\n",
    "result.append(class1)"
   ]
  },
  {
   "cell_type": "code",
   "execution_count": 8,
   "id": "e17d4c75",
   "metadata": {},
   "outputs": [
    {
     "data": {
      "image/png": "[encoded data removed]",
      "text/plain": [
       "<Figure size 432x288 with 2 Axes>"
      ]
     },
     "metadata": {
      "needs_background": "light"
     },
     "output_type": "display_data"
    }
   ],
   "source": [
    "plot_confusion_matrix(clf, X_test, y_test)  \n",
    "plt.show()"
   ]
  },
  {
   "cell_type": "code",
   "execution_count": 9,
   "id": "d680f1a3",
   "metadata": {},
   "outputs": [
    {
     "name": "stdout",
     "output_type": "stream",
     "text": [
      "Accuracy: 81.75\n"
     ]
    }
   ],
   "source": [
    "clf = DecisionTreeClassifier()\n",
    "clf.fit(X_train, y_train)\n",
    "preds = clf.predict(X_test)\n",
    "acc = accuracy_score(y_test, preds)\n",
    "print('Accuracy: {}'.format(acc*100))\n",
    "\n",
    "class1 = (y_test != preds).sum()\n",
    "class1 = ((len(y_test) - class1)/len(y_test)) * 100\n",
    "result.append(class1)"
   ]
  },
  {
   "cell_type": "code",
   "execution_count": 10,
   "id": "706b482b",
   "metadata": {},
   "outputs": [
    {
     "data": {
      "image/png": "[encoded data removed]",
      "text/plain": [
       "<Figure size 432x288 with 2 Axes>"
      ]
     },
     "metadata": {
      "needs_background": "light"
     },
     "output_type": "display_data"
    }
   ],
   "source": [
    "plot_confusion_matrix(clf, X_test, y_test)  \n",
    "plt.show()"
   ]
  },
  {
   "cell_type": "code",
   "execution_count": 11,
   "id": "efd21fe3",
   "metadata": {},
   "outputs": [
    {
     "name": "stdout",
     "output_type": "stream",
     "text": [
      "Accuracy: 84.0\n"
     ]
    }
   ],
   "source": [
    "clf=KNeighborsClassifier()\n",
    "clf.fit(X_train, y_train)\n",
    "preds = clf.predict(X_test)\n",
    "acc = accuracy_score(y_test, preds)\n",
    "print('Accuracy: {}'.format(acc*100))\n",
    "\n",
    "class1 = (y_test != preds).sum()\n",
    "class1 = ((len(y_test) - class1)/len(y_test)) * 100\n",
    "result.append(class1)"
   ]
  },
  {
   "cell_type": "code",
   "execution_count": 12,
   "id": "ffb861fa",
   "metadata": {},
   "outputs": [
    {
     "data": {
      "image/png": "[encoded data removed]",
      "text/plain": [
       "<Figure size 432x288 with 2 Axes>"
      ]
     },
     "metadata": {
      "needs_background": "light"
     },
     "output_type": "display_data"
    }
   ],
   "source": [
    "plot_confusion_matrix(clf, X_test, y_test)  \n",
    "plt.show()"
   ]
  },
  {
   "cell_type": "code",
   "execution_count": 13,
   "id": "c4c92573",
   "metadata": {},
   "outputs": [
    {
     "data": {
      "image/png": "[encoded data removed]",
      "text/plain": [
       "<Figure size 432x288 with 1 Axes>"
      ]
     },
     "metadata": {
      "needs_background": "light"
     },
     "output_type": "display_data"
    }
   ],
   "source": [
    "x = [\"SVM\", \"DT\",\"KNN\"]\n",
    "h = result\n",
    "c = [\"red\", \"green\", \"orange\"]\n",
    "plt.bar(x,h,width=0.3, color=c)\n",
    "plt.xlabel(\"Classifications\")\n",
    "plt.ylabel(\"Percentage\")\n",
    "plt.show()"
   ]
  },
  {
   "cell_type": "code",
   "execution_count": null,
   "id": "7590ff40",
   "metadata": {},
   "outputs": [],
   "source": []
  }
 ],
 "metadata": {
  "kernelspec": {
   "display_name": "Python 3 (ipykernel)",
   "language": "python",
   "name": "python3"
  },
  "language_info": {
   "codemirror_mode": {
    "name": "ipython",
    "version": 3
   },
   "file_extension": ".py",
   "mimetype": "text/x-python",
   "name": "python",
   "nbconvert_exporter": "python",
   "pygments_lexer": "ipython3",
   "version": "3.9.7"
  }
 },
 "nbformat": 4,
 "nbformat_minor": 5
}
